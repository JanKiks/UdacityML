{
 "cells": [
  {
   "cell_type": "code",
   "execution_count": 1,
   "metadata": {
    "collapsed": true,
    "pycharm": {
     "is_executing": false
    }
   },
   "outputs": [
    {
     "name": "stderr",
     "text": [
      "/Users/yickminglee/.pyenv/versions/2.7.16/envs/minip/lib/python2.7/site-packages/sklearn/cross_validation.py:44: DeprecationWarning: This module was deprecated in version 0.18 in favor of the model_selection module into which all the refactored classes and functions are moved. Also note that the interface of the new CV iterators are different from that of this module. This module will be removed in 0.20.\n",
      "  \"This module will be removed in 0.20.\", DeprecationWarning)\n"
     ],
     "output_type": "stream"
    }
   ],
   "source": [
    "import sys\n",
    "from time import time\n",
    "sys.path.append(\"../tools/\")\n",
    "from email_preprocess import preprocess\n",
    "\n",
    "# Import scikit-learn metrics module for SVC\n",
    "from sklearn.svm import SVC\n",
    "# Import scikit-learn metrics module for accuracy calculation\n",
    "from sklearn import metrics"
   ]
  },
  {
   "cell_type": "code",
   "execution_count": 3,
   "outputs": [
    {
     "name": "stdout",
     "text": [
      "no. of Chris training emails: 7936\n",
      "no. of Sara training emails: 7884\n"
     ],
     "output_type": "stream"
    }
   ],
   "source": [
    "### features_train and features_test are the features for the training\n",
    "### and testing datasets, respectively\n",
    "### labels_train and labels_test are the corresponding item labels\n",
    "features_train, features_test, labels_train, labels_test = preprocess()"
   ],
   "metadata": {
    "collapsed": false,
    "pycharm": {
     "name": "#%%\n",
     "is_executing": false
    }
   }
  },
  {
   "cell_type": "code",
   "execution_count": 4,
   "outputs": [
    {
     "data": {
      "text/plain": "(15820, 3785)"
     },
     "metadata": {},
     "output_type": "execute_result",
     "execution_count": 4
    }
   ],
   "source": [
    "features_train.shape\n",
    "# 15,820 emails. some are Chris's and some are Sara's\n",
    "# 3,785 features\n"
   ],
   "metadata": {
    "collapsed": false,
    "pycharm": {
     "name": "#%%\n",
     "is_executing": false
    }
   }
  },
  {
   "cell_type": "code",
   "execution_count": 5,
   "outputs": [
    {
     "name": "stdout",
     "text": [
      "Accuracy: 0.984072810011\n",
      "Training time: 208.203 s\n",
      "Prediction time: 25.575 s\n"
     ],
     "output_type": "stream"
    }
   ],
   "source": [
    "# Create a SVM Classifier\n",
    "clf = SVC(kernel='linear')\n",
    "\n",
    "# Train the model using the training sets\n",
    "t0 = time()\n",
    "clf.fit(features_train, labels_train)\n",
    "training_time = round(time() - t0, 3)\n",
    "\n",
    "# Predict the response for test dataset\n",
    "t0 = time()\n",
    "labels_test_pred = clf.predict(features_test)\n",
    "prediction_time = round(time() - t0, 3)\n",
    "\n",
    "# Model Accuracy, how often is the classifier correct?\n",
    "accuracy = metrics.accuracy_score(labels_test, labels_test_pred)\n",
    "\n",
    "print \"Accuracy:\", accuracy\n",
    "print \"Training time:\", training_time, \"s\"\n",
    "print \"Prediction time:\", prediction_time, \"s\""
   ],
   "metadata": {
    "collapsed": false,
    "pycharm": {
     "name": "#%%\n",
     "is_executing": false
    }
   }
  },
  {
   "cell_type": "code",
   "execution_count": 6,
   "outputs": [
    {
     "name": "stdout",
     "text": [
      "C =  1\n",
      "Accuracy: 0.616040955631\n",
      "Training time: 0.151 s\n",
      "Prediction time: 1.693 s\n",
      "C =  10\n",
      "Accuracy: 0.616040955631\n",
      "Training time: 0.156 s\n",
      "Prediction time: 1.87 s\n",
      "C =  100\n",
      "Accuracy: 0.616040955631\n",
      "Training time: 0.133 s\n",
      "Prediction time: 1.353 s\n",
      "C =  1000\n",
      "Accuracy: 0.821387940842\n",
      "Training time: 0.108 s\n",
      "Prediction time: 1.333 s\n",
      "C =  10000\n",
      "Accuracy: 0.892491467577\n",
      "Training time: 0.096 s\n",
      "Prediction time: 1.297 s\n"
     ],
     "output_type": "stream"
    }
   ],
   "source": [
    "### fit and predict ###\n",
    "def svm_clf(features_train, features_test, labels_train, labels_test, kernel=\"rbf\", C=1):\n",
    "\n",
    "    # Create a SVC Classifier\n",
    "    clf = SVC(kernel=kernel, C=C)\n",
    "\n",
    "    # Train the model using the training sets\n",
    "    t0 = time()\n",
    "    clf.fit(features_train, labels_train)\n",
    "    training_time = round(time() - t0, 3)\n",
    "\n",
    "    # Predict the response for test dataset\n",
    "    t0 = time()\n",
    "    labels_test_pred = clf.predict(features_test)\n",
    "    prediction_time = round(time() - t0, 3)\n",
    "\n",
    "    # Model Accuracy, how often is the classifier correct?\n",
    "    accuracy = metrics.accuracy_score(labels_test, labels_test_pred)\n",
    "\n",
    "    return labels_test_pred, accuracy, training_time, prediction_time\n",
    "\n",
    "Cs = [1, 10, 100, 1000, 10000]\n",
    "features_train = features_train[:len(features_train) / 100]\n",
    "labels_train = labels_train[:len(labels_train) / 100]\n",
    "\n",
    "for c in Cs:\n",
    "    labels_test_pred, accuracy, training_time, prediction_time = svm_clf(features_train, features_test, labels_train, labels_test, kernel=\"rbf\", C=c)\n",
    "    print \"C = \", c\n",
    "    print \"Accuracy:\", accuracy\n",
    "    print \"Training time:\", training_time, \"s\"\n",
    "    print \"Prediction time:\", prediction_time, \"s\"\n"
   ],
   "metadata": {
    "collapsed": false,
    "pycharm": {
     "name": "#%%\n",
     "is_executing": false
    }
   }
  },
  {
   "cell_type": "code",
   "execution_count": 13,
   "outputs": [
    {
     "name": "stdout",
     "text": [
      "no. of Chris training emails: 7936\n",
      "no. of Sara training emails: 7884\n",
      "C =  10000\n",
      "Accuracy: 0.990898748578\n",
      "Training time: 130.561 s\n",
      "Prediction time: 13.719 s\n"
     ],
     "output_type": "stream"
    }
   ],
   "source": [
    "features_train, features_test, labels_train, labels_test = preprocess()\n",
    "\n",
    "c = 10000\n",
    "labels_test_pred, accuracy, training_time, prediction_time = svm_clf(features_train, features_test, labels_train, labels_test, kernel=\"rbf\", C=c)\n",
    "print \"C = \", c\n",
    "print \"Accuracy:\", accuracy\n",
    "print \"Training time:\", training_time, \"s\"\n",
    "print \"Prediction time:\", prediction_time, \"s\"\n"
   ],
   "metadata": {
    "collapsed": false,
    "pycharm": {
     "name": "#%%\n",
     "is_executing": false
    }
   }
  },
  {
   "cell_type": "code",
   "execution_count": 14,
   "outputs": [
    {
     "data": {
      "text/plain": "array([1, 0, 1])"
     },
     "metadata": {},
     "output_type": "execute_result",
     "execution_count": 14
    }
   ],
   "source": [
    "labels_test_pred[[10,26,50]]"
   ],
   "metadata": {
    "collapsed": false,
    "pycharm": {
     "name": "#%%\n",
     "is_executing": false
    }
   }
  },
  {
   "cell_type": "code",
   "execution_count": 15,
   "outputs": [
    {
     "name": "stdout",
     "text": [
      "no. of Chris predicted emails: 877\n",
      "no. of Sara predicted emails: 881\n"
     ],
     "output_type": "stream"
    }
   ],
   "source": [
    "print \"no. of Chris predicted emails:\", sum(labels_test_pred)\n",
    "print \"no. of Sara predicted emails:\", len(labels_test_pred)-sum(labels_test_pred)\n"
   ],
   "metadata": {
    "collapsed": false,
    "pycharm": {
     "name": "#%%\n",
     "is_executing": false
    }
   }
  },
  {
   "cell_type": "code",
   "execution_count": null,
   "outputs": [],
   "source": [
    "\n"
   ],
   "metadata": {
    "collapsed": false,
    "pycharm": {
     "name": "#%%\n"
    }
   }
  }
 ],
 "metadata": {
  "kernelspec": {
   "display_name": "Python 2",
   "language": "python",
   "name": "python2"
  },
  "language_info": {
   "codemirror_mode": {
    "name": "ipython",
    "version": 2
   },
   "file_extension": ".py",
   "mimetype": "text/x-python",
   "name": "python",
   "nbconvert_exporter": "python",
   "pygments_lexer": "ipython2",
   "version": "2.7.6"
  },
  "pycharm": {
   "stem_cell": {
    "cell_type": "raw",
    "source": [],
    "metadata": {
     "collapsed": false
    }
   }
  }
 },
 "nbformat": 4,
 "nbformat_minor": 0
}