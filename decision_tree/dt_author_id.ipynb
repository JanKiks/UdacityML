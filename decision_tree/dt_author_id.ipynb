{
 "cells": [
  {
   "cell_type": "code",
   "execution_count": 1,
   "metadata": {
    "collapsed": true,
    "pycharm": {
     "is_executing": false
    }
   },
   "outputs": [
    {
     "name": "stderr",
     "text": [
      "/Users/yickminglee/.pyenv/versions/2.7.16/envs/minip/lib/python2.7/site-packages/sklearn/cross_validation.py:44: DeprecationWarning: This module was deprecated in version 0.18 in favor of the model_selection module into which all the refactored classes and functions are moved. Also note that the interface of the new CV iterators are different from that of this module. This module will be removed in 0.20.\n",
      "  \"This module will be removed in 0.20.\", DeprecationWarning)\n"
     ],
     "output_type": "stream"
    }
   ],
   "source": [
    "import sys\n",
    "from time import time\n",
    "sys.path.append(\"../tools/\")\n",
    "from email_preprocess import preprocess\n",
    "\n",
    "# Import scikit-learn metrics module for SVC\n",
    "from sklearn import tree\n",
    "# Import scikit-learn metrics module for accuracy calculation\n",
    "from sklearn import metrics"
   ]
  },
  {
   "cell_type": "code",
   "execution_count": 2,
   "outputs": [
    {
     "name": "stdout",
     "text": [
      "no. of Chris training emails: 7936\n",
      "no. of Sara training emails: 7884\n"
     ],
     "output_type": "stream"
    }
   ],
   "source": [
    "### features_train and features_test are the features for the training\n",
    "### and testing datasets, respectively\n",
    "### labels_train and labels_test are the corresponding item labels\n",
    "features_train, features_test, labels_train, labels_test = preprocess()"
   ],
   "metadata": {
    "collapsed": false,
    "pycharm": {
     "name": "#%%\n",
     "is_executing": false
    }
   }
  },
  {
   "cell_type": "code",
   "execution_count": 3,
   "outputs": [
    {
     "data": {
      "text/plain": "(15820, 379)"
     },
     "metadata": {},
     "output_type": "execute_result",
     "execution_count": 3
    }
   ],
   "source": [
    "features_train.shape\n",
    "\n",
    "#len(features_train[0])\n",
    "# 15,820 emails. some are Chris's and some are Sara's\n",
    "# 3,785 features\n"
   ],
   "metadata": {
    "collapsed": false,
    "pycharm": {
     "name": "#%%\n",
     "is_executing": false
    }
   }
  },
  {
   "cell_type": "code",
   "execution_count": 4,
   "outputs": [],
   "source": [
    "import pickle\n",
    "import cPickle\n",
    "import numpy\n",
    "\n",
    "from sklearn import cross_validation\n",
    "from sklearn.feature_extraction.text import TfidfVectorizer\n",
    "from sklearn.feature_selection import SelectPercentile, f_classif\n",
    "\n",
    "\n",
    "\n",
    "def preprocess_pct(words_file = \"../tools/word_data.pkl\", authors_file=\"../tools/email_authors.pkl\", percentile = 10):\n",
    "    \"\"\" \n",
    "        this function takes a pre-made list of email texts (by default word_data.pkl)\n",
    "        and the corresponding authors (by default email_authors.pkl) and performs\n",
    "        a number of preprocessing steps:\n",
    "            -- splits into training/testing sets (10% testing)\n",
    "            -- vectorizes into tfidf matrix\n",
    "            -- selects/keeps most helpful features\n",
    "\n",
    "        after this, the feaures and labels are put into numpy arrays, which play nice with sklearn functions\n",
    "\n",
    "        4 objects are returned:\n",
    "            -- training/testing features\n",
    "            -- training/testing labels\n",
    "\n",
    "    \"\"\"\n",
    "\n",
    "    ### the words (features) and authors (labels), already largely preprocessed\n",
    "    ### this preprocessing will be repeated in the text learning mini-project\n",
    "    authors_file_handler = open(authors_file, \"r\")\n",
    "    authors = pickle.load(authors_file_handler)\n",
    "    authors_file_handler.close()\n",
    "\n",
    "    words_file_handler = open(words_file, \"r\")\n",
    "    word_data = cPickle.load(words_file_handler)\n",
    "    words_file_handler.close()\n",
    "\n",
    "    ### test_size is the percentage of events assigned to the test set\n",
    "    ### (remainder go into training)\n",
    "    features_train, features_test, labels_train, labels_test = cross_validation.train_test_split(word_data, authors, test_size=0.1, random_state=42)\n",
    "\n",
    "\n",
    "\n",
    "    ### text vectorization--go from strings to lists of numbers\n",
    "    vectorizer = TfidfVectorizer(sublinear_tf=True, max_df=0.5,\n",
    "                                 stop_words='english')\n",
    "    features_train_transformed = vectorizer.fit_transform(features_train)\n",
    "    features_test_transformed  = vectorizer.transform(features_test)\n",
    "\n",
    "\n",
    "\n",
    "    ### feature selection, because text is super high dimensional and \n",
    "    ### can be really computationally chewy as a result\n",
    "    selector = SelectPercentile(f_classif, percentile=percentile)\n",
    "    selector.fit(features_train_transformed, labels_train)\n",
    "    features_train_transformed = selector.transform(features_train_transformed).toarray()\n",
    "    features_test_transformed  = selector.transform(features_test_transformed).toarray()\n",
    "\n",
    "    ### info on the data\n",
    "    print \"no. of Chris training emails:\", sum(labels_train)\n",
    "    print \"no. of Sara training emails:\", len(labels_train)-sum(labels_train)\n",
    "    \n",
    "    return features_train_transformed, features_test_transformed, labels_train, labels_test\n"
   ],
   "metadata": {
    "collapsed": false,
    "pycharm": {
     "name": "#%%\n",
     "is_executing": false
    }
   }
  },
  {
   "cell_type": "code",
   "execution_count": 5,
   "outputs": [
    {
     "name": "stdout",
     "text": [
      "Feature Selector Percentile:  no. of Chris training emails: 7936\n",
      "no. of Sara training emails: 7884\n",
      "Accuracy: 0.977815699659\n",
      "Training time: 64.199 s\n",
      "Prediction time: 0.058 s\n"
     ],
     "output_type": "stream"
    }
   ],
   "source": [
    "pct = 10\n",
    "print \"Feature Selector Percentile: \", pct\n",
    "features_train, features_test, labels_train, labels_test = preprocess_pct(percentile=pct)\n",
    "\n",
    "# Create a SVM Classifier\n",
    "clf = tree.DecisionTreeClassifier(min_samples_split=40)\n",
    "\n",
    "# Train the model using the training sets\n",
    "t0 = time()\n",
    "clf.fit(features_train, labels_train)\n",
    "training_time = round(time() - t0, 3)\n",
    "\n",
    "# Predict the response for test dataset\n",
    "t0 = time()\n",
    "labels_test_pred = clf.predict(features_test)\n",
    "prediction_time = round(time() - t0, 3)\n",
    "\n",
    "# Model Accuracy, how often is the classifier correct?\n",
    "accuracy = metrics.accuracy_score(labels_test, labels_test_pred)\n",
    "\n",
    "print \"Accuracy:\", accuracy\n",
    "print \"Training time:\", training_time, \"s\"\n",
    "print \"Prediction time:\", prediction_time, \"s\"\n"
   ],
   "metadata": {
    "collapsed": false,
    "pycharm": {
     "name": "#%%\n",
     "is_executing": false
    }
   }
  },
  {
   "cell_type": "code",
   "execution_count": 6,
   "outputs": [
    {
     "name": "stdout",
     "text": [
      "Feature Selector Percentile:  no. of Chris training emails: 7936\n",
      "no. of Sara training emails: 7884\n",
      "Accuracy: 0.966439135381\n",
      "Training time: 3.614 s\n",
      "Prediction time: 0.001 s\n"
     ],
     "output_type": "stream"
    }
   ],
   "source": [
    "pct = 1\n",
    "print \"Feature Selector Percentile: \", pct\n",
    "features_train, features_test, labels_train, labels_test = preprocess_pct(percentile=pct)\n",
    "\n",
    "# Create a SVM Classifier\n",
    "clf = tree.DecisionTreeClassifier(min_samples_split=40)\n",
    "\n",
    "# Train the model using the training sets\n",
    "t0 = time()\n",
    "clf.fit(features_train, labels_train)\n",
    "training_time = round(time() - t0, 3)\n",
    "\n",
    "# Predict the response for test dataset\n",
    "t0 = time()\n",
    "labels_test_pred = clf.predict(features_test)\n",
    "prediction_time = round(time() - t0, 3)\n",
    "\n",
    "# Model Accuracy, how often is the classifier correct?\n",
    "accuracy = metrics.accuracy_score(labels_test, labels_test_pred)\n",
    "\n",
    "print \"Accuracy:\", accuracy\n",
    "print \"Training time:\", training_time, \"s\"\n",
    "print \"Prediction time:\", prediction_time, \"s\"\n"
   ],
   "metadata": {
    "collapsed": false,
    "pycharm": {
     "name": "#%%\n",
     "is_executing": false
    }
   }
  },
  {
   "cell_type": "code",
   "execution_count": null,
   "outputs": [],
   "source": [
    "\n"
   ],
   "metadata": {
    "collapsed": false,
    "pycharm": {
     "name": "#%%\n"
    }
   }
  }
 ],
 "metadata": {
  "kernelspec": {
   "display_name": "Python 2",
   "language": "python",
   "name": "python2"
  },
  "language_info": {
   "codemirror_mode": {
    "name": "ipython",
    "version": 2
   },
   "file_extension": ".py",
   "mimetype": "text/x-python",
   "name": "python",
   "nbconvert_exporter": "python",
   "pygments_lexer": "ipython2",
   "version": "2.7.6"
  },
  "pycharm": {
   "stem_cell": {
    "cell_type": "raw",
    "source": [],
    "metadata": {
     "collapsed": false
    }
   }
  }
 },
 "nbformat": 4,
 "nbformat_minor": 0
}