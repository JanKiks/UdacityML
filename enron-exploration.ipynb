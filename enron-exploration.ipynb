{
 "cells": [
  {
   "cell_type": "markdown",
   "metadata": {
    "collapsed": true
   },
   "source": [
    "# Explore enron data"
   ]
  },
  {
   "cell_type": "code",
   "execution_count": 31,
   "metadata": {},
   "outputs": [],
   "source": [
    "import pickle"
   ]
  },
  {
   "cell_type": "code",
   "execution_count": 32,
   "metadata": {},
   "outputs": [
    {
     "name": "stdout",
     "output_type": "stream",
     "text": [
      "\u001b[0m\u001b[01;34mchoose_your_own\u001b[0m/         \u001b[01;34mfeature_selection\u001b[0m/  \u001b[01;34mpca\u001b[0m/            \u001b[01;34mtools\u001b[0m/\r\n",
      "\u001b[01;34mdatasets_questions\u001b[0m/      \u001b[01;34mfinal_project\u001b[0m/      README.md       \u001b[01;34mvalidation\u001b[0m/\r\n",
      "\u001b[01;34mdecision_tree\u001b[0m/           \u001b[01;34mk_means\u001b[0m/            \u001b[01;34mregression\u001b[0m/\r\n",
      "enron-exploration.ipynb  \u001b[01;34mnaive_bayes\u001b[0m/        \u001b[01;34msvm\u001b[0m/\r\n",
      "\u001b[01;34mevaluation\u001b[0m/              \u001b[01;34moutliers\u001b[0m/           \u001b[01;34mtext_learning\u001b[0m/\r\n"
     ]
    }
   ],
   "source": [
    "ls"
   ]
  },
  {
   "cell_type": "code",
   "execution_count": 33,
   "metadata": {
    "collapsed": true
   },
   "outputs": [],
   "source": [
    "enron_data = pickle.load(open(\"final_project/final_project_dataset.pkl\", \"r\"))"
   ]
  },
  {
   "cell_type": "code",
   "execution_count": 35,
   "metadata": {
    "collapsed": true
   },
   "outputs": [],
   "source": [
    "# load dataset into dataframe\n",
    "import pandas as pd\n",
    "\n",
    "df_clean = pd.DataFrame(enron_data)"
   ]
  },
  {
   "cell_type": "code",
   "execution_count": 36,
   "metadata": {},
   "outputs": [
    {
     "data": {
      "text/html": [
       "<div>\n",
       "<style>\n",
       "    .dataframe thead tr:only-child th {\n",
       "        text-align: right;\n",
       "    }\n",
       "\n",
       "    .dataframe thead th {\n",
       "        text-align: left;\n",
       "    }\n",
       "\n",
       "    .dataframe tbody tr th {\n",
       "        vertical-align: top;\n",
       "    }\n",
       "</style>\n",
       "<table border=\"1\" class=\"dataframe\">\n",
       "  <thead>\n",
       "    <tr style=\"text-align: right;\">\n",
       "      <th></th>\n",
       "      <th>ALLEN PHILLIP K</th>\n",
       "      <th>BADUM JAMES P</th>\n",
       "      <th>BANNANTINE JAMES M</th>\n",
       "      <th>BAXTER JOHN C</th>\n",
       "      <th>BAY FRANKLIN R</th>\n",
       "      <th>BAZELIDES PHILIP J</th>\n",
       "      <th>BECK SALLY W</th>\n",
       "      <th>BELDEN TIMOTHY N</th>\n",
       "      <th>BELFER ROBERT</th>\n",
       "      <th>BERBERIAN DAVID</th>\n",
       "      <th>...</th>\n",
       "      <th>WASAFF GEORGE</th>\n",
       "      <th>WESTFAHL RICHARD K</th>\n",
       "      <th>WHALEY DAVID A</th>\n",
       "      <th>WHALLEY LAWRENCE G</th>\n",
       "      <th>WHITE JR THOMAS E</th>\n",
       "      <th>WINOKUR JR. HERBERT S</th>\n",
       "      <th>WODRASKA JOHN</th>\n",
       "      <th>WROBEL BRUCE</th>\n",
       "      <th>YEAGER F SCOTT</th>\n",
       "      <th>YEAP SOON</th>\n",
       "    </tr>\n",
       "  </thead>\n",
       "  <tbody>\n",
       "    <tr>\n",
       "      <th>bonus</th>\n",
       "      <td>4175000</td>\n",
       "      <td>NaN</td>\n",
       "      <td>NaN</td>\n",
       "      <td>1200000</td>\n",
       "      <td>400000</td>\n",
       "      <td>NaN</td>\n",
       "      <td>700000</td>\n",
       "      <td>5249999</td>\n",
       "      <td>NaN</td>\n",
       "      <td>NaN</td>\n",
       "      <td>...</td>\n",
       "      <td>325000</td>\n",
       "      <td>NaN</td>\n",
       "      <td>NaN</td>\n",
       "      <td>3000000</td>\n",
       "      <td>450000</td>\n",
       "      <td>NaN</td>\n",
       "      <td>NaN</td>\n",
       "      <td>NaN</td>\n",
       "      <td>NaN</td>\n",
       "      <td>NaN</td>\n",
       "    </tr>\n",
       "    <tr>\n",
       "      <th>deferral_payments</th>\n",
       "      <td>2869717</td>\n",
       "      <td>178980</td>\n",
       "      <td>NaN</td>\n",
       "      <td>1295738</td>\n",
       "      <td>260455</td>\n",
       "      <td>684694</td>\n",
       "      <td>NaN</td>\n",
       "      <td>2144013</td>\n",
       "      <td>-102500</td>\n",
       "      <td>NaN</td>\n",
       "      <td>...</td>\n",
       "      <td>831299</td>\n",
       "      <td>NaN</td>\n",
       "      <td>NaN</td>\n",
       "      <td>NaN</td>\n",
       "      <td>NaN</td>\n",
       "      <td>NaN</td>\n",
       "      <td>NaN</td>\n",
       "      <td>NaN</td>\n",
       "      <td>NaN</td>\n",
       "      <td>NaN</td>\n",
       "    </tr>\n",
       "    <tr>\n",
       "      <th>deferred_income</th>\n",
       "      <td>-3081055</td>\n",
       "      <td>NaN</td>\n",
       "      <td>-5104</td>\n",
       "      <td>-1386055</td>\n",
       "      <td>-201641</td>\n",
       "      <td>NaN</td>\n",
       "      <td>NaN</td>\n",
       "      <td>-2334434</td>\n",
       "      <td>NaN</td>\n",
       "      <td>NaN</td>\n",
       "      <td>...</td>\n",
       "      <td>-583325</td>\n",
       "      <td>-10800</td>\n",
       "      <td>NaN</td>\n",
       "      <td>NaN</td>\n",
       "      <td>NaN</td>\n",
       "      <td>-25000</td>\n",
       "      <td>NaN</td>\n",
       "      <td>NaN</td>\n",
       "      <td>NaN</td>\n",
       "      <td>NaN</td>\n",
       "    </tr>\n",
       "    <tr>\n",
       "      <th>director_fees</th>\n",
       "      <td>NaN</td>\n",
       "      <td>NaN</td>\n",
       "      <td>NaN</td>\n",
       "      <td>NaN</td>\n",
       "      <td>NaN</td>\n",
       "      <td>NaN</td>\n",
       "      <td>NaN</td>\n",
       "      <td>NaN</td>\n",
       "      <td>3285</td>\n",
       "      <td>NaN</td>\n",
       "      <td>...</td>\n",
       "      <td>NaN</td>\n",
       "      <td>NaN</td>\n",
       "      <td>NaN</td>\n",
       "      <td>NaN</td>\n",
       "      <td>NaN</td>\n",
       "      <td>108579</td>\n",
       "      <td>NaN</td>\n",
       "      <td>NaN</td>\n",
       "      <td>NaN</td>\n",
       "      <td>NaN</td>\n",
       "    </tr>\n",
       "    <tr>\n",
       "      <th>email_address</th>\n",
       "      <td>phillip.allen@enron.com</td>\n",
       "      <td>NaN</td>\n",
       "      <td>james.bannantine@enron.com</td>\n",
       "      <td>NaN</td>\n",
       "      <td>frank.bay@enron.com</td>\n",
       "      <td>NaN</td>\n",
       "      <td>sally.beck@enron.com</td>\n",
       "      <td>tim.belden@enron.com</td>\n",
       "      <td>NaN</td>\n",
       "      <td>david.berberian@enron.com</td>\n",
       "      <td>...</td>\n",
       "      <td>george.wasaff@enron.com</td>\n",
       "      <td>dick.westfahl@enron.com</td>\n",
       "      <td>NaN</td>\n",
       "      <td>greg.whalley@enron.com</td>\n",
       "      <td>thomas.white@enron.com</td>\n",
       "      <td>NaN</td>\n",
       "      <td>john.wodraska@enron.com</td>\n",
       "      <td>NaN</td>\n",
       "      <td>scott.yeager@enron.com</td>\n",
       "      <td>NaN</td>\n",
       "    </tr>\n",
       "  </tbody>\n",
       "</table>\n",
       "<p>5 rows × 146 columns</p>\n",
       "</div>"
      ],
      "text/plain": [
       "                           ALLEN PHILLIP K BADUM JAMES P  \\\n",
       "bonus                              4175000           NaN   \n",
       "deferral_payments                  2869717        178980   \n",
       "deferred_income                   -3081055           NaN   \n",
       "director_fees                          NaN           NaN   \n",
       "email_address      phillip.allen@enron.com           NaN   \n",
       "\n",
       "                           BANNANTINE JAMES M BAXTER JOHN C  \\\n",
       "bonus                                     NaN       1200000   \n",
       "deferral_payments                         NaN       1295738   \n",
       "deferred_income                         -5104      -1386055   \n",
       "director_fees                             NaN           NaN   \n",
       "email_address      james.bannantine@enron.com           NaN   \n",
       "\n",
       "                        BAY FRANKLIN R BAZELIDES PHILIP J  \\\n",
       "bonus                           400000                NaN   \n",
       "deferral_payments               260455             684694   \n",
       "deferred_income                -201641                NaN   \n",
       "director_fees                      NaN                NaN   \n",
       "email_address      frank.bay@enron.com                NaN   \n",
       "\n",
       "                           BECK SALLY W      BELDEN TIMOTHY N BELFER ROBERT  \\\n",
       "bonus                            700000               5249999           NaN   \n",
       "deferral_payments                   NaN               2144013       -102500   \n",
       "deferred_income                     NaN              -2334434           NaN   \n",
       "director_fees                       NaN                   NaN          3285   \n",
       "email_address      sally.beck@enron.com  tim.belden@enron.com           NaN   \n",
       "\n",
       "                             BERBERIAN DAVID    ...     \\\n",
       "bonus                                    NaN    ...      \n",
       "deferral_payments                        NaN    ...      \n",
       "deferred_income                          NaN    ...      \n",
       "director_fees                            NaN    ...      \n",
       "email_address      david.berberian@enron.com    ...      \n",
       "\n",
       "                             WASAFF GEORGE       WESTFAHL RICHARD K  \\\n",
       "bonus                               325000                      NaN   \n",
       "deferral_payments                   831299                      NaN   \n",
       "deferred_income                    -583325                   -10800   \n",
       "director_fees                          NaN                      NaN   \n",
       "email_address      george.wasaff@enron.com  dick.westfahl@enron.com   \n",
       "\n",
       "                  WHALEY DAVID A      WHALLEY LAWRENCE G  \\\n",
       "bonus                        NaN                 3000000   \n",
       "deferral_payments            NaN                     NaN   \n",
       "deferred_income              NaN                     NaN   \n",
       "director_fees                NaN                     NaN   \n",
       "email_address                NaN  greg.whalley@enron.com   \n",
       "\n",
       "                        WHITE JR THOMAS E WINOKUR JR. HERBERT S  \\\n",
       "bonus                              450000                   NaN   \n",
       "deferral_payments                     NaN                   NaN   \n",
       "deferred_income                       NaN                -25000   \n",
       "director_fees                         NaN                108579   \n",
       "email_address      thomas.white@enron.com                   NaN   \n",
       "\n",
       "                             WODRASKA JOHN WROBEL BRUCE  \\\n",
       "bonus                                  NaN          NaN   \n",
       "deferral_payments                      NaN          NaN   \n",
       "deferred_income                        NaN          NaN   \n",
       "director_fees                          NaN          NaN   \n",
       "email_address      john.wodraska@enron.com          NaN   \n",
       "\n",
       "                           YEAGER F SCOTT YEAP SOON  \n",
       "bonus                                 NaN       NaN  \n",
       "deferral_payments                     NaN       NaN  \n",
       "deferred_income                       NaN       NaN  \n",
       "director_fees                         NaN       NaN  \n",
       "email_address      scott.yeager@enron.com       NaN  \n",
       "\n",
       "[5 rows x 146 columns]"
      ]
     },
     "execution_count": 36,
     "metadata": {},
     "output_type": "execute_result"
    }
   ],
   "source": [
    "df_clean.head()"
   ]
  },
  {
   "cell_type": "code",
   "execution_count": 37,
   "metadata": {},
   "outputs": [
    {
     "data": {
      "text/plain": [
       "(21, 146)"
      ]
     },
     "execution_count": 37,
     "metadata": {},
     "output_type": "execute_result"
    }
   ],
   "source": [
    "df_clean.shape"
   ]
  },
  {
   "cell_type": "markdown",
   "metadata": {},
   "source": [
    "so we have 21 features and 146 persons of interests, but the order is weird, let's transpose it to have the features of each person in a row"
   ]
  },
  {
   "cell_type": "code",
   "execution_count": 43,
   "metadata": {
    "collapsed": true
   },
   "outputs": [],
   "source": [
    "df = df_clean.transpose()"
   ]
  },
  {
   "cell_type": "code",
   "execution_count": 44,
   "metadata": {},
   "outputs": [
    {
     "data": {
      "text/html": [
       "<div>\n",
       "<style>\n",
       "    .dataframe thead tr:only-child th {\n",
       "        text-align: right;\n",
       "    }\n",
       "\n",
       "    .dataframe thead th {\n",
       "        text-align: left;\n",
       "    }\n",
       "\n",
       "    .dataframe tbody tr th {\n",
       "        vertical-align: top;\n",
       "    }\n",
       "</style>\n",
       "<table border=\"1\" class=\"dataframe\">\n",
       "  <thead>\n",
       "    <tr style=\"text-align: right;\">\n",
       "      <th></th>\n",
       "      <th>bonus</th>\n",
       "      <th>deferral_payments</th>\n",
       "      <th>deferred_income</th>\n",
       "      <th>director_fees</th>\n",
       "      <th>email_address</th>\n",
       "      <th>exercised_stock_options</th>\n",
       "      <th>expenses</th>\n",
       "      <th>from_messages</th>\n",
       "      <th>from_poi_to_this_person</th>\n",
       "      <th>from_this_person_to_poi</th>\n",
       "      <th>...</th>\n",
       "      <th>long_term_incentive</th>\n",
       "      <th>other</th>\n",
       "      <th>poi</th>\n",
       "      <th>restricted_stock</th>\n",
       "      <th>restricted_stock_deferred</th>\n",
       "      <th>salary</th>\n",
       "      <th>shared_receipt_with_poi</th>\n",
       "      <th>to_messages</th>\n",
       "      <th>total_payments</th>\n",
       "      <th>total_stock_value</th>\n",
       "    </tr>\n",
       "  </thead>\n",
       "  <tbody>\n",
       "    <tr>\n",
       "      <th>ALLEN PHILLIP K</th>\n",
       "      <td>4175000</td>\n",
       "      <td>2869717</td>\n",
       "      <td>-3081055</td>\n",
       "      <td>NaN</td>\n",
       "      <td>phillip.allen@enron.com</td>\n",
       "      <td>1729541</td>\n",
       "      <td>13868</td>\n",
       "      <td>2195</td>\n",
       "      <td>47</td>\n",
       "      <td>65</td>\n",
       "      <td>...</td>\n",
       "      <td>304805</td>\n",
       "      <td>152</td>\n",
       "      <td>False</td>\n",
       "      <td>126027</td>\n",
       "      <td>-126027</td>\n",
       "      <td>201955</td>\n",
       "      <td>1407</td>\n",
       "      <td>2902</td>\n",
       "      <td>4484442</td>\n",
       "      <td>1729541</td>\n",
       "    </tr>\n",
       "    <tr>\n",
       "      <th>BADUM JAMES P</th>\n",
       "      <td>NaN</td>\n",
       "      <td>178980</td>\n",
       "      <td>NaN</td>\n",
       "      <td>NaN</td>\n",
       "      <td>NaN</td>\n",
       "      <td>257817</td>\n",
       "      <td>3486</td>\n",
       "      <td>NaN</td>\n",
       "      <td>NaN</td>\n",
       "      <td>NaN</td>\n",
       "      <td>...</td>\n",
       "      <td>NaN</td>\n",
       "      <td>NaN</td>\n",
       "      <td>False</td>\n",
       "      <td>NaN</td>\n",
       "      <td>NaN</td>\n",
       "      <td>NaN</td>\n",
       "      <td>NaN</td>\n",
       "      <td>NaN</td>\n",
       "      <td>182466</td>\n",
       "      <td>257817</td>\n",
       "    </tr>\n",
       "    <tr>\n",
       "      <th>BANNANTINE JAMES M</th>\n",
       "      <td>NaN</td>\n",
       "      <td>NaN</td>\n",
       "      <td>-5104</td>\n",
       "      <td>NaN</td>\n",
       "      <td>james.bannantine@enron.com</td>\n",
       "      <td>4046157</td>\n",
       "      <td>56301</td>\n",
       "      <td>29</td>\n",
       "      <td>39</td>\n",
       "      <td>0</td>\n",
       "      <td>...</td>\n",
       "      <td>NaN</td>\n",
       "      <td>864523</td>\n",
       "      <td>False</td>\n",
       "      <td>1757552</td>\n",
       "      <td>-560222</td>\n",
       "      <td>477</td>\n",
       "      <td>465</td>\n",
       "      <td>566</td>\n",
       "      <td>916197</td>\n",
       "      <td>5243487</td>\n",
       "    </tr>\n",
       "    <tr>\n",
       "      <th>BAXTER JOHN C</th>\n",
       "      <td>1200000</td>\n",
       "      <td>1295738</td>\n",
       "      <td>-1386055</td>\n",
       "      <td>NaN</td>\n",
       "      <td>NaN</td>\n",
       "      <td>6680544</td>\n",
       "      <td>11200</td>\n",
       "      <td>NaN</td>\n",
       "      <td>NaN</td>\n",
       "      <td>NaN</td>\n",
       "      <td>...</td>\n",
       "      <td>1586055</td>\n",
       "      <td>2660303</td>\n",
       "      <td>False</td>\n",
       "      <td>3942714</td>\n",
       "      <td>NaN</td>\n",
       "      <td>267102</td>\n",
       "      <td>NaN</td>\n",
       "      <td>NaN</td>\n",
       "      <td>5634343</td>\n",
       "      <td>10623258</td>\n",
       "    </tr>\n",
       "    <tr>\n",
       "      <th>BAY FRANKLIN R</th>\n",
       "      <td>400000</td>\n",
       "      <td>260455</td>\n",
       "      <td>-201641</td>\n",
       "      <td>NaN</td>\n",
       "      <td>frank.bay@enron.com</td>\n",
       "      <td>NaN</td>\n",
       "      <td>129142</td>\n",
       "      <td>NaN</td>\n",
       "      <td>NaN</td>\n",
       "      <td>NaN</td>\n",
       "      <td>...</td>\n",
       "      <td>NaN</td>\n",
       "      <td>69</td>\n",
       "      <td>False</td>\n",
       "      <td>145796</td>\n",
       "      <td>-82782</td>\n",
       "      <td>239671</td>\n",
       "      <td>NaN</td>\n",
       "      <td>NaN</td>\n",
       "      <td>827696</td>\n",
       "      <td>63014</td>\n",
       "    </tr>\n",
       "  </tbody>\n",
       "</table>\n",
       "<p>5 rows × 21 columns</p>\n",
       "</div>"
      ],
      "text/plain": [
       "                      bonus deferral_payments deferred_income director_fees  \\\n",
       "ALLEN PHILLIP K     4175000           2869717        -3081055           NaN   \n",
       "BADUM JAMES P           NaN            178980             NaN           NaN   \n",
       "BANNANTINE JAMES M      NaN               NaN           -5104           NaN   \n",
       "BAXTER JOHN C       1200000           1295738        -1386055           NaN   \n",
       "BAY FRANKLIN R       400000            260455         -201641           NaN   \n",
       "\n",
       "                                 email_address exercised_stock_options  \\\n",
       "ALLEN PHILLIP K        phillip.allen@enron.com                 1729541   \n",
       "BADUM JAMES P                              NaN                  257817   \n",
       "BANNANTINE JAMES M  james.bannantine@enron.com                 4046157   \n",
       "BAXTER JOHN C                              NaN                 6680544   \n",
       "BAY FRANKLIN R             frank.bay@enron.com                     NaN   \n",
       "\n",
       "                   expenses from_messages from_poi_to_this_person  \\\n",
       "ALLEN PHILLIP K       13868          2195                      47   \n",
       "BADUM JAMES P          3486           NaN                     NaN   \n",
       "BANNANTINE JAMES M    56301            29                      39   \n",
       "BAXTER JOHN C         11200           NaN                     NaN   \n",
       "BAY FRANKLIN R       129142           NaN                     NaN   \n",
       "\n",
       "                   from_this_person_to_poi        ...         \\\n",
       "ALLEN PHILLIP K                         65        ...          \n",
       "BADUM JAMES P                          NaN        ...          \n",
       "BANNANTINE JAMES M                       0        ...          \n",
       "BAXTER JOHN C                          NaN        ...          \n",
       "BAY FRANKLIN R                         NaN        ...          \n",
       "\n",
       "                   long_term_incentive    other    poi restricted_stock  \\\n",
       "ALLEN PHILLIP K                 304805      152  False           126027   \n",
       "BADUM JAMES P                      NaN      NaN  False              NaN   \n",
       "BANNANTINE JAMES M                 NaN   864523  False          1757552   \n",
       "BAXTER JOHN C                  1586055  2660303  False          3942714   \n",
       "BAY FRANKLIN R                     NaN       69  False           145796   \n",
       "\n",
       "                   restricted_stock_deferred  salary shared_receipt_with_poi  \\\n",
       "ALLEN PHILLIP K                      -126027  201955                    1407   \n",
       "BADUM JAMES P                            NaN     NaN                     NaN   \n",
       "BANNANTINE JAMES M                   -560222     477                     465   \n",
       "BAXTER JOHN C                            NaN  267102                     NaN   \n",
       "BAY FRANKLIN R                        -82782  239671                     NaN   \n",
       "\n",
       "                   to_messages total_payments total_stock_value  \n",
       "ALLEN PHILLIP K           2902        4484442           1729541  \n",
       "BADUM JAMES P              NaN         182466            257817  \n",
       "BANNANTINE JAMES M         566         916197           5243487  \n",
       "BAXTER JOHN C              NaN        5634343          10623258  \n",
       "BAY FRANKLIN R             NaN         827696             63014  \n",
       "\n",
       "[5 rows x 21 columns]"
      ]
     },
     "execution_count": 44,
     "metadata": {},
     "output_type": "execute_result"
    }
   ],
   "source": [
    "df.head()"
   ]
  },
  {
   "cell_type": "markdown",
   "metadata": {},
   "source": [
    "let's count the number of persons of interest"
   ]
  },
  {
   "cell_type": "code",
   "execution_count": 47,
   "metadata": {},
   "outputs": [],
   "source": [
    "pois = df[df.poi == True]"
   ]
  },
  {
   "cell_type": "code",
   "execution_count": 48,
   "metadata": {},
   "outputs": [
    {
     "data": {
      "text/plain": [
       "18"
      ]
     },
     "execution_count": 48,
     "metadata": {},
     "output_type": "execute_result"
    }
   ],
   "source": [
    "# number of persons of interest\n",
    "len(pois)"
   ]
  },
  {
   "cell_type": "markdown",
   "metadata": {},
   "source": [
    "let's count the total number of pois"
   ]
  },
  {
   "cell_type": "code",
   "execution_count": 49,
   "metadata": {
    "collapsed": true
   },
   "outputs": [],
   "source": [
    "total_num_pois = 0\n",
    "with open('final_project/poi_names.txt', 'r') as f:\n",
    "    for line in f:\n",
    "        if any(keyword in line for keyword in [\"(y)\",\"(n)\"]):\n",
    "            total_num_pois += 1"
   ]
  },
  {
   "cell_type": "code",
   "execution_count": 50,
   "metadata": {},
   "outputs": [
    {
     "data": {
      "text/plain": [
       "35"
      ]
     },
     "execution_count": 50,
     "metadata": {},
     "output_type": "execute_result"
    }
   ],
   "source": [
    "total_num_pois"
   ]
  },
  {
   "cell_type": "markdown",
   "metadata": {},
   "source": [
    "in total there are 35 persons of interest"
   ]
  },
  {
   "cell_type": "markdown",
   "metadata": {},
   "source": [
    "What is the total value of the stock belonging to James Prentice?"
   ]
  },
  {
   "cell_type": "code",
   "execution_count": 54,
   "metadata": {
    "scrolled": true
   },
   "outputs": [
    {
     "data": {
      "text/plain": [
       "array(['ALLEN PHILLIP K', 'BADUM JAMES P', 'BANNANTINE JAMES M',\n",
       "       'BAXTER JOHN C', 'BAY FRANKLIN R', 'BAZELIDES PHILIP J',\n",
       "       'BECK SALLY W', 'BELDEN TIMOTHY N', 'BELFER ROBERT',\n",
       "       'BERBERIAN DAVID', 'BERGSIEKER RICHARD P', 'BHATNAGAR SANJAY',\n",
       "       'BIBI PHILIPPE A', 'BLACHMAN JEREMY M', 'BLAKE JR. NORMAN P',\n",
       "       'BOWEN JR RAYMOND M', 'BROWN MICHAEL', 'BUCHANAN HAROLD G',\n",
       "       'BUTTS ROBERT H', 'BUY RICHARD B', 'CALGER CHRISTOPHER F',\n",
       "       'CARTER REBECCA C', 'CAUSEY RICHARD A', 'CHAN RONNIE',\n",
       "       'CHRISTODOULOU DIOMEDES', 'CLINE KENNETH W', 'COLWELL WESLEY',\n",
       "       'CORDES WILLIAM R', 'COX DAVID', 'CUMBERLAND MICHAEL S',\n",
       "       'DEFFNER JOSEPH M', 'DELAINEY DAVID W', 'DERRICK JR. JAMES V',\n",
       "       'DETMERING TIMOTHY J', 'DIETRICH JANET R', 'DIMICHELE RICHARD G',\n",
       "       'DODSON KEITH', 'DONAHUE JR JEFFREY M', 'DUNCAN JOHN H',\n",
       "       'DURAN WILLIAM D', 'ECHOLS JOHN B', 'ELLIOTT STEVEN',\n",
       "       'FALLON JAMES B', 'FASTOW ANDREW S', 'FITZGERALD JAY L',\n",
       "       'FOWLER PEGGY', 'FOY JOE', 'FREVERT MARK A', 'FUGH JOHN L',\n",
       "       'GAHN ROBERT S', 'GARLAND C KEVIN', 'GATHMANN WILLIAM D',\n",
       "       'GIBBS DANA R', 'GILLIS JOHN', 'GLISAN JR BEN F', 'GOLD JOSEPH',\n",
       "       'GRAMM WENDY L', 'GRAY RODNEY', 'HAEDICKE MARK E', 'HANNON KEVIN P',\n",
       "       'HAUG DAVID L', 'HAYES ROBERT E', 'HAYSLETT RODERICK J',\n",
       "       'HERMANN ROBERT J', 'HICKERSON GARY J', 'HIRKO JOSEPH',\n",
       "       'HORTON STANLEY C', 'HUGHES JAMES A', 'HUMPHREY GENE E',\n",
       "       'IZZO LAWRENCE L', 'JACKSON CHARLENE R', 'JAEDICKE ROBERT',\n",
       "       'KAMINSKI WINCENTY J', 'KEAN STEVEN J', 'KISHKILL JOSEPH G',\n",
       "       'KITCHEN LOUISE', 'KOENIG MARK E', 'KOPPER MICHAEL J',\n",
       "       'LAVORATO JOHN J', 'LAY KENNETH L', 'LEFF DANIEL P',\n",
       "       'LEMAISTRE CHARLES', 'LEWIS RICHARD', 'LINDHOLM TOD A',\n",
       "       'LOCKHART EUGENE E', 'LOWRY CHARLES P', 'MARTIN AMANDA K',\n",
       "       'MCCARTY DANNY J', 'MCCLELLAN GEORGE', 'MCCONNELL MICHAEL S',\n",
       "       'MCDONALD REBECCA', 'MCMAHON JEFFREY', 'MENDELSOHN JOHN',\n",
       "       'METTS MARK', 'MEYER JEROME J', 'MEYER ROCKFORD G',\n",
       "       'MORAN MICHAEL P', 'MORDAUNT KRISTINA M', 'MULLER MARK S',\n",
       "       'MURRAY JULIA H', 'NOLES JAMES L', 'OLSON CINDY K',\n",
       "       'OVERDYKE JR JERE C', 'PAI LOU L', 'PEREIRA PAULO V. FERRAZ',\n",
       "       'PICKERING MARK R', 'PIPER GREGORY F', 'PIRO JIM', 'POWERS WILLIAM',\n",
       "       'PRENTICE JAMES', 'REDMOND BRIAN L', 'REYNOLDS LAWRENCE',\n",
       "       'RICE KENNETH D', 'RIEKER PAULA H', 'SAVAGE FRANK',\n",
       "       'SCRIMSHAW MATTHEW', 'SHANKMAN JEFFREY A', 'SHAPIRO RICHARD S',\n",
       "       'SHARP VICTORIA T', 'SHELBY REX', 'SHERRICK JEFFREY B',\n",
       "       'SHERRIFF JOHN R', 'SKILLING JEFFREY K', 'STABLER FRANK',\n",
       "       'SULLIVAN-SHAKLOVITZ COLLEEN', 'SUNDE MARTIN', 'TAYLOR MITCHELL S',\n",
       "       'THE TRAVEL AGENCY IN THE PARK', 'THORN TERENCE H',\n",
       "       'TILNEY ELIZABETH A', 'TOTAL', 'UMANOFF ADAM S', 'URQUHART JOHN A',\n",
       "       'WAKEHAM JOHN', 'WALLS JR ROBERT H', 'WALTERS GARETH W',\n",
       "       'WASAFF GEORGE', 'WESTFAHL RICHARD K', 'WHALEY DAVID A',\n",
       "       'WHALLEY LAWRENCE G', 'WHITE JR THOMAS E', 'WINOKUR JR. HERBERT S',\n",
       "       'WODRASKA JOHN', 'WROBEL BRUCE', 'YEAGER F SCOTT', 'YEAP SOON'], dtype=object)"
      ]
     },
     "execution_count": 54,
     "metadata": {},
     "output_type": "execute_result"
    }
   ],
   "source": [
    "df_clean.columns.values"
   ]
  },
  {
   "cell_type": "markdown",
   "metadata": {},
   "source": [
    "ok, obviously we need to use family and firstname written in upper case"
   ]
  },
  {
   "cell_type": "code",
   "execution_count": 56,
   "metadata": {},
   "outputs": [
    {
     "data": {
      "text/plain": [
       "1095040"
      ]
     },
     "execution_count": 56,
     "metadata": {},
     "output_type": "execute_result"
    }
   ],
   "source": [
    "df.loc[\"PRENTICE JAMES\"][\"total_stock_value\"]"
   ]
  },
  {
   "cell_type": "markdown",
   "metadata": {},
   "source": [
    "The total value of stock of James Prentice is 1095040."
   ]
  },
  {
   "cell_type": "markdown",
   "metadata": {},
   "source": [
    "What’s the value of stock options exercised by Jeffrey K Skilling?"
   ]
  },
  {
   "cell_type": "code",
   "execution_count": 58,
   "metadata": {},
   "outputs": [
    {
     "data": {
      "text/plain": [
       "19250000"
      ]
     },
     "execution_count": 58,
     "metadata": {},
     "output_type": "execute_result"
    }
   ],
   "source": [
    "df.loc[\"SKILLING JEFFREY K\"][\"exercised_stock_options\"]"
   ]
  },
  {
   "cell_type": "markdown",
   "metadata": {},
   "source": [
    "The value of stock options exercised by Jeffery K Skilling is: 19250000."
   ]
  },
  {
   "cell_type": "markdown",
   "metadata": {},
   "source": [
    "todo\n",
    "quizzes: 21"
   ]
  },
  {
   "cell_type": "markdown",
   "metadata": {},
   "source": [
    "Of these three individuals (Lay, Skilling and Fastow), who took home the most money (largest value of “total_payments” feature)?\n",
    "\n",
    "How much money did that person get?"
   ]
  },
  {
   "cell_type": "code",
   "execution_count": 87,
   "metadata": {},
   "outputs": [
    {
     "data": {
      "text/plain": [
       "SKLLING JEFFERY K          NaN\n",
       "LAY KENNETH L        103559793\n",
       "FASTOW ANDREW S        2424083\n",
       "Name: total_payments, dtype: object"
      ]
     },
     "execution_count": 87,
     "metadata": {},
     "output_type": "execute_result"
    }
   ],
   "source": [
    "df.loc[[\"SKLLING JEFFERY K\", \"LAY KENNETH L\", \"FASTOW ANDREW S\"]][\"total_payments\"]"
   ]
  },
  {
   "cell_type": "markdown",
   "metadata": {},
   "source": [
    "Kenneth Lay was the guy with an amount of 103559793."
   ]
  },
  {
   "cell_type": "markdown",
   "metadata": {},
   "source": [
    "How many folks in this dataset have a quantified salary? What about a known email address?\n",
    "Start Quiz"
   ]
  },
  {
   "cell_type": "code",
   "execution_count": 99,
   "metadata": {},
   "outputs": [
    {
     "data": {
      "text/plain": [
       "array(['bonus', 'deferral_payments', 'deferred_income', 'director_fees',\n",
       "       'email_address', 'exercised_stock_options', 'expenses',\n",
       "       'from_messages', 'from_poi_to_this_person',\n",
       "       'from_this_person_to_poi', 'loan_advances', 'long_term_incentive',\n",
       "       'other', 'poi', 'restricted_stock', 'restricted_stock_deferred',\n",
       "       'salary', 'shared_receipt_with_poi', 'to_messages',\n",
       "       'total_payments', 'total_stock_value'], dtype=object)"
      ]
     },
     "execution_count": 99,
     "metadata": {},
     "output_type": "execute_result"
    }
   ],
   "source": [
    "df.columns.values"
   ]
  },
  {
   "cell_type": "code",
   "execution_count": 112,
   "metadata": {},
   "outputs": [
    {
     "data": {
      "text/plain": [
       "95"
      ]
     },
     "execution_count": 112,
     "metadata": {},
     "output_type": "execute_result"
    }
   ],
   "source": [
    "# does not work here, maybe isnull function had a bug in that version?\n",
    "#len(df[~df.salary.isnull()])\n",
    "\n",
    "# using that alternativ, did not work neither\n",
    "#len(df.salary.dropna())\n",
    "\n",
    "# manual checking works, maybe 'NaN' here is of different type\n",
    "len(df[df.salary != 'NaN'])"
   ]
  },
  {
   "cell_type": "markdown",
   "metadata": {},
   "source": [
    "95 persons had a quantified salary."
   ]
  },
  {
   "cell_type": "code",
   "execution_count": 119,
   "metadata": {},
   "outputs": [
    {
     "data": {
      "text/plain": [
       "111"
      ]
     },
     "execution_count": 119,
     "metadata": {},
     "output_type": "execute_result"
    }
   ],
   "source": [
    "len(df[df.email_address != 'NaN'])"
   ]
  },
  {
   "cell_type": "code",
   "execution_count": 123,
   "metadata": {},
   "outputs": [],
   "source": [
    "df_0 = df.replace('NaN', 0)"
   ]
  },
  {
   "cell_type": "code",
   "execution_count": null,
   "metadata": {
    "collapsed": true
   },
   "outputs": [],
   "source": []
  }
 ],
 "metadata": {
  "kernelspec": {
   "display_name": "Python 2",
   "language": "python",
   "name": "python2"
  },
  "language_info": {
   "codemirror_mode": {
    "name": "ipython",
    "version": 2
   },
   "file_extension": ".py",
   "mimetype": "text/x-python",
   "name": "python",
   "nbconvert_exporter": "python",
   "pygments_lexer": "ipython2",
   "version": "2.7.13"
  }
 },
 "nbformat": 4,
 "nbformat_minor": 1
}
